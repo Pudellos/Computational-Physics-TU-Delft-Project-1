{
 "cells": [
  {
   "cell_type": "code",
   "execution_count": 7,
   "id": "hungry-museum",
   "metadata": {},
   "outputs": [
    {
     "ename": "IndentationError",
     "evalue": "unexpected indent (<ipython-input-7-ddcb08c233d7>, line 48)",
     "output_type": "error",
     "traceback": [
      "\u001b[0;36m  File \u001b[0;32m\"<ipython-input-7-ddcb08c233d7>\"\u001b[0;36m, line \u001b[0;32m48\u001b[0m\n\u001b[0;31m    x=x[:,0],  # <-- Put your data instead\u001b[0m\n\u001b[0m    ^\u001b[0m\n\u001b[0;31mIndentationError\u001b[0m\u001b[0;31m:\u001b[0m unexpected indent\n"
     ]
    }
   ],
   "source": [
    "import itertools\n",
    "import numpy as np\n",
    "import plotly\n",
    "import plotly.graph_objs as go\n",
    "\n",
    "\n",
    "def fcc_lattice(num_atoms, box_dim, dim):\n",
    "    \"\"\"\n",
    "    Initializes a system of atoms on an fcc lattice.\n",
    "\n",
    "    Parameters\n",
    "    ----------\n",
    "    num_atoms : int\n",
    "        The number of particles in the system\n",
    "    lattice_const : float\n",
    "        The lattice constant for an fcc lattice\n",
    "\n",
    "    Returns\n",
    "    -------\n",
    "    pos_vec : np.ndarray\n",
    "        Array of particle coordinates\n",
    "    \"\"\"\n",
    "    N = num_atoms  \n",
    "    n = dim\n",
    "    UC = N/4\n",
    "    AUC = np.ceil(UC**(1/dim))\n",
    "    lc = box_dim/AUC\n",
    "    L=np.arange(AUC)\n",
    "    comb = [p for p in itertools.product(L, repeat=n)]\n",
    "    a = np.asarray(comb)\n",
    "    x = np.append(a,a+[0.5,0.5,0], axis=0)\n",
    "    x = np.append(x,a+[0.5,0,0.5], axis=0)\n",
    "    x = np.append(x,a+[0,0.5,0.5], axis=0)\n",
    "    x=lc*x\n",
    "    print(\"To fill the FCC lattice\", len(x)-N,\"particles were added for a total of\", len(x))\n",
    "    return x, len(x)\n",
    "\n",
    "\n",
    "\n",
    "x, l = fcc_lattice(1, 100, 3)\n",
    "\n",
    "#print(a)\n",
    "\n",
    "plotly.offline.init_notebook_mode()\n",
    "\n",
    "# Configure the trace.\n",
    "trace = go.Scatter3d(\n",
    "    x=x[:,0],  # <-- Put your data instead\n",
    "    y=x[:,1],  # <-- Put your data instead\n",
    "    z=x[:,2],  # <-- Put your data instead\n",
    "    mode='markers',\n",
    "    marker={\n",
    "        'size': 10,\n",
    "        'opacity': 0.8,\n",
    "    }\n",
    ")\n",
    "\n",
    "# Configure the layout.\n",
    "layout = go.Layout(\n",
    "    margin={'l': 0, 'r': 0, 'b': 0, 't': 0}\n",
    ")\n",
    "\n",
    "data = [trace]\n",
    "\n",
    "plot_figure = go.Figure(data=data, layout=layout)\n",
    "\n",
    "# Render the plot.\n",
    "plotly.offline.iplot(plot_figure)\n",
    "\n",
    "\n",
    "\n",
    "print(len(x))\n",
    "#print(*comb)\n",
    "#print((x))\n"
   ]
  },
  {
   "cell_type": "code",
   "execution_count": 18,
   "id": "genuine-brook",
   "metadata": {},
   "outputs": [
    {
     "name": "stdout",
     "output_type": "stream",
     "text": [
      "To fill the FCC lattice 8 particles were added for a total of 18\n"
     ]
    },
    {
     "data": {
      "text/plain": [
       "[<matplotlib.lines.Line2D at 0x7f134ea94d90>]"
      ]
     },
     "execution_count": 18,
     "metadata": {},
     "output_type": "execute_result"
    },
    {
     "data": {
      "image/png": "[encoded data removed]",
      "text/plain": [
       "<Figure size 432x288 with 1 Axes>"
      ]
     },
     "metadata": {
      "needs_background": "light"
     },
     "output_type": "display_data"
    }
   ],
   "source": [
    "import itertools\n",
    "import numpy as np\n",
    "import matplotlib.pyplot as plt \n",
    "\n",
    "def fcc_lattice(num_atoms, box_dim, dim):\n",
    "    \"\"\"\n",
    "    Initializes a system of atoms on an fcc lattice.\n",
    "\n",
    "    Parameters\n",
    "    ----------\n",
    "    num_atoms : int\n",
    "        The number of particles in the system\n",
    "    lattice_const : float\n",
    "        The lattice constant for an fcc lattice\n",
    "\n",
    "    Returns\n",
    "    -------\n",
    "    x : np.ndarray\n",
    "        Array of particle coordinates\n",
    "    \"\"\"\n",
    "    N = num_atoms  \n",
    "    n = dim\n",
    "    if n==3:\n",
    "        ppuc=4 #particles per unit cell (3d)\n",
    "    else:\n",
    "        ppuc=2 #particles per unit cell (2d)\n",
    "    UC = N/ppuc #number of unit cells needed\n",
    "    AUC = np.ceil(UC**(1/dim)) #number of unit cells per axis\n",
    "    lc = box_dim/AUC #lattice constant\n",
    "    L=np.arange(AUC)\n",
    "    comb = [p for p in itertools.product(L, repeat=n)] #all possible permutation to fill the whole lattice (all unit cells once)\n",
    "    a = np.asarray(comb)\n",
    "    if n==3:\n",
    "        x = np.append(a,a+[0.5,0.5,0], axis=0) #add basisvectors to unit fcc cell (3d)\n",
    "        x = np.append(x,a+[0.5,0,0.5], axis=0)\n",
    "        x = np.append(x,a+[0,0.5,0.5], axis=0)\n",
    "    if n==2:\n",
    "        x = np.append(a,a+[0.5,0.5], axis=0 #add basisvectors to unit fcc cell (2d)\n",
    "    x=lc*x\n",
    "    print(\"To fill the FCC lattice\", len(x)-N,\"particles were added for a total of\", len(x))\n",
    "    return x, len(x)\n",
    "\n",
    "x,l=fcc_lattice(10,10,2)\n",
    "plt.figure(1)\n",
    "plt.plot(x[:,0],x[:,1],'o')"
   ]
  },
  {
   "cell_type": "code",
   "execution_count": 22,
   "id": "demanding-tanzania",
   "metadata": {},
   "outputs": [
    {
     "ename": "NameError",
     "evalue": "name 'itertools' is not defined",
     "output_type": "error",
     "traceback": [
      "\u001b[0;31m---------------------------------------------------------------------------\u001b[0m",
      "\u001b[0;31mNameError\u001b[0m                                 Traceback (most recent call last)",
      "\u001b[0;32m<ipython-input-22-d6a996f5f53e>\u001b[0m in \u001b[0;36m<module>\u001b[0;34m\u001b[0m\n\u001b[1;32m      2\u001b[0m \u001b[0;32mimport\u001b[0m \u001b[0mskeleton_ours\u001b[0m\u001b[0;34m\u001b[0m\u001b[0;34m\u001b[0m\u001b[0m\n\u001b[1;32m      3\u001b[0m \u001b[0;32mfrom\u001b[0m \u001b[0mskeleton_ours\u001b[0m \u001b[0;32mimport\u001b[0m \u001b[0mfcc_lattice\u001b[0m\u001b[0;34m\u001b[0m\u001b[0;34m\u001b[0m\u001b[0m\n\u001b[0;32m----> 4\u001b[0;31m \u001b[0mfcc_lattice\u001b[0m\u001b[0;34m(\u001b[0m\u001b[0;36m10\u001b[0m\u001b[0;34m,\u001b[0m\u001b[0;36m100\u001b[0m\u001b[0;34m,\u001b[0m\u001b[0;36m3\u001b[0m\u001b[0;34m)\u001b[0m\u001b[0;34m\u001b[0m\u001b[0;34m\u001b[0m\u001b[0m\n\u001b[0m",
      "\u001b[0;32m~/Project-1_Nico_kchmiel/skeleton_ours.py\u001b[0m in \u001b[0;36mfcc_lattice\u001b[0;34m(num_atoms, box_dim, dim)\u001b[0m\n\u001b[1;32m    165\u001b[0m     \u001b[0mAUC\u001b[0m \u001b[0;34m=\u001b[0m \u001b[0mnp\u001b[0m\u001b[0;34m.\u001b[0m\u001b[0mceil\u001b[0m\u001b[0;34m(\u001b[0m\u001b[0mUC\u001b[0m\u001b[0;34m**\u001b[0m\u001b[0;34m(\u001b[0m\u001b[0;36m1\u001b[0m\u001b[0;34m/\u001b[0m\u001b[0mdim\u001b[0m\u001b[0;34m)\u001b[0m\u001b[0;34m)\u001b[0m \u001b[0;31m#number of unit cells per axis\u001b[0m\u001b[0;34m\u001b[0m\u001b[0;34m\u001b[0m\u001b[0m\n\u001b[1;32m    166\u001b[0m     \u001b[0mlc\u001b[0m \u001b[0;34m=\u001b[0m \u001b[0mbox_dim\u001b[0m\u001b[0;34m/\u001b[0m\u001b[0mAUC\u001b[0m \u001b[0;31m#lattice constant\u001b[0m\u001b[0;34m\u001b[0m\u001b[0;34m\u001b[0m\u001b[0m\n\u001b[0;32m--> 167\u001b[0;31m     \u001b[0mL\u001b[0m\u001b[0;34m=\u001b[0m\u001b[0mnp\u001b[0m\u001b[0;34m.\u001b[0m\u001b[0marange\u001b[0m\u001b[0;34m(\u001b[0m\u001b[0mAUC\u001b[0m\u001b[0;34m)\u001b[0m\u001b[0;34m\u001b[0m\u001b[0;34m\u001b[0m\u001b[0m\n\u001b[0m\u001b[1;32m    168\u001b[0m     \u001b[0mcomb\u001b[0m \u001b[0;34m=\u001b[0m \u001b[0;34m[\u001b[0m\u001b[0mp\u001b[0m \u001b[0;32mfor\u001b[0m \u001b[0mp\u001b[0m \u001b[0;32min\u001b[0m \u001b[0mitertools\u001b[0m\u001b[0;34m.\u001b[0m\u001b[0mproduct\u001b[0m\u001b[0;34m(\u001b[0m\u001b[0mL\u001b[0m\u001b[0;34m,\u001b[0m \u001b[0mrepeat\u001b[0m\u001b[0;34m=\u001b[0m\u001b[0mn\u001b[0m\u001b[0;34m)\u001b[0m\u001b[0;34m]\u001b[0m \u001b[0;31m#all possible permutation to fill the whole lattice (all unit cells once)\u001b[0m\u001b[0;34m\u001b[0m\u001b[0;34m\u001b[0m\u001b[0m\n\u001b[1;32m    169\u001b[0m     \u001b[0ma\u001b[0m \u001b[0;34m=\u001b[0m \u001b[0mnp\u001b[0m\u001b[0;34m.\u001b[0m\u001b[0masarray\u001b[0m\u001b[0;34m(\u001b[0m\u001b[0mcomb\u001b[0m\u001b[0;34m)\u001b[0m\u001b[0;34m\u001b[0m\u001b[0;34m\u001b[0m\u001b[0m\n",
      "\u001b[0;31mNameError\u001b[0m: name 'itertools' is not defined"
     ]
    }
   ],
   "source": [
    "import itertools\n",
    "import skeleton_ours\n",
    "from skeleton_ours import fcc_lattice\n",
    "fcc_lattice(10,100,3)"
   ]
  },
  {
   "cell_type": "code",
   "execution_count": null,
   "id": "correct-residence",
   "metadata": {},
   "outputs": [],
   "source": []
  }
 ],
 "metadata": {
  "kernelspec": {
   "display_name": "Python 3",
   "language": "python",
   "name": "python3"
  },
  "language_info": {
   "codemirror_mode": {
    "name": "ipython",
    "version": 3
   },
   "file_extension": ".py",
   "mimetype": "text/x-python",
   "name": "python",
   "nbconvert_exporter": "python",
   "pygments_lexer": "ipython3",
   "version": "3.8.6"
  }
 },
 "nbformat": 4,
 "nbformat_minor": 5
}
