{
 "cells": [
  {
   "cell_type": "code",
   "execution_count": 2,
   "id": "frank-engagement",
   "metadata": {},
   "outputs": [
    {
     "name": "stdout",
     "output_type": "stream",
     "text": [
      "To fill the FCC lattice 8 particles were added for a total of 108\n"
     ]
    }
   ],
   "source": [
    "import itertools\n",
    "import numpy as np\n",
    "\n",
    "\n",
    "def fcc_lattice(num_atoms, box_dim, dim):\n",
    "    \"\"\"\n",
    "    Initializes a system of atoms on an fcc lattice.\n",
    "\n",
    "    Parameters\n",
    "    ----------\n",
    "    num_atoms : int\n",
    "        The number of particles in the system\n",
    "    lattice_const : float\n",
    "        The lattice constant for an fcc lattice\n",
    "\n",
    "    Returns\n",
    "    -------\n",
    "    pos_vec : np.ndarray\n",
    "        Array of particle coordinates\n",
    "    \"\"\"\n",
    "    N = num_atoms  \n",
    "    n = dim\n",
    "    UC = N/4\n",
    "    AUC = np.ceil(UC**(1/dim))\n",
    "    lc = box_dim/AUC\n",
    "    L=np.arange(AUC)\n",
    "    comb = [p for p in itertools.product(L, repeat=n)]\n",
    "    a = np.asarray(comb)\n",
    "    x = np.append(a,a+[0.5,0.5,0], axis=0)\n",
    "    x = np.append(x,a+[0.5,0,0.5], axis=0)\n",
    "    x = np.append(x,a+[0,0.5,0.5], axis=0)\n",
    "    x=lc*x\n",
    "    print(\"To fill the FCC lattice\", len(x)-N,\"particles were added for a total of\", len(x))\n",
    "    return x, len(x)\n",
    "\n",
    "\n",
    "\n",
    "a = fcc_lattice(100, 1000, 3)\n",
    "\n",
    "#print(a)\n"
   ]
  },
  {
   "cell_type": "code",
   "execution_count": 2,
   "id": "checked-pilot",
   "metadata": {},
   "outputs": [
    {
     "name": "stdout",
     "output_type": "stream",
     "text": [
      "[[0.  0.  0. ]\n",
      " [0.  0.  5. ]\n",
      " [0.  5.  0. ]\n",
      " [0.  5.  5. ]\n",
      " [5.  0.  0. ]\n",
      " [5.  0.  5. ]\n",
      " [5.  5.  0. ]\n",
      " [5.  5.  5. ]\n",
      " [2.5 2.5 0. ]\n",
      " [2.5 2.5 5. ]\n",
      " [2.5 7.5 0. ]\n",
      " [2.5 7.5 5. ]\n",
      " [7.5 2.5 0. ]\n",
      " [7.5 2.5 5. ]\n",
      " [7.5 7.5 0. ]\n",
      " [7.5 7.5 5. ]\n",
      " [2.5 0.  2.5]\n",
      " [2.5 0.  7.5]\n",
      " [2.5 5.  2.5]\n",
      " [2.5 5.  7.5]\n",
      " [7.5 0.  2.5]\n",
      " [7.5 0.  7.5]\n",
      " [7.5 5.  2.5]\n",
      " [7.5 5.  7.5]\n",
      " [0.  2.5 2.5]\n",
      " [0.  2.5 7.5]\n",
      " [0.  7.5 2.5]\n",
      " [0.  7.5 7.5]\n",
      " [5.  2.5 2.5]\n",
      " [5.  2.5 7.5]\n",
      " [5.  7.5 2.5]\n",
      " [5.  7.5 7.5]]\n"
     ]
    }
   ],
   "source": [
    "\n"
   ]
  },
  {
   "cell_type": "code",
   "execution_count": 28,
   "id": "incomplete-nothing",
   "metadata": {},
   "outputs": [
    {
     "data": {
      "text/plain": [
       "64"
      ]
     },
     "execution_count": 28,
     "metadata": {},
     "output_type": "execute_result"
    }
   ],
   "source": [
    "plotly.offline.init_notebook_mode()\n",
    "\n",
    "# Configure the trace.\n",
    "trace = go.Scatter3d(\n",
    "    x=x[:,0],  # <-- Put your data instead\n",
    "    y=x[:,1],  # <-- Put your data instead\n",
    "    z=x[:,2],  # <-- Put your data instead\n",
    "    mode='markers',\n",
    "    marker={\n",
    "        'size': 10,\n",
    "        'opacity': 0.8,\n",
    "    }\n",
    ")\n",
    "\n",
    "# Configure the layout.\n",
    "layout = go.Layout(\n",
    "    margin={'l': 0, 'r': 0, 'b': 0, 't': 0}\n",
    ")\n",
    "\n",
    "data = [trace]\n",
    "\n",
    "plot_figure = go.Figure(data=data, layout=layout)\n",
    "\n",
    "# Render the plot.\n",
    "plotly.offline.iplot(plot_figure)\n",
    "\n",
    "\n",
    "\n",
    "print(len(x))\n",
    "#print(*comb)\n",
    "#print((x))"
   ]
  },
  {
   "cell_type": "code",
   "execution_count": null,
   "id": "proved-portland",
   "metadata": {},
   "outputs": [],
   "source": []
  }
 ],
 "metadata": {
  "kernelspec": {
   "display_name": "Python 3",
   "language": "python",
   "name": "python3"
  },
  "language_info": {
   "codemirror_mode": {
    "name": "ipython",
    "version": 3
   },
   "file_extension": ".py",
   "mimetype": "text/x-python",
   "name": "python",
   "nbconvert_exporter": "python",
   "pygments_lexer": "ipython3",
   "version": "3.8.6"
  }
 },
 "nbformat": 4,
 "nbformat_minor": 5
}
