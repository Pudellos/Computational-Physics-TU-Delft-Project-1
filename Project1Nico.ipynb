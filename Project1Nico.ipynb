{
 "cells": [
  {
   "cell_type": "code",
   "execution_count": 1,
   "id": "hollow-religion",
   "metadata": {},
   "outputs": [
    {
     "name": "stdout",
     "output_type": "stream",
     "text": [
      "[[-2.4255985e-09 -2.4255985e-09]\n",
      " [ 2.4255985e-09  2.4255985e-09]]\n",
      "[[1 1]\n",
      " [9 9]]\n",
      "[[1. 1.]\n",
      " [9. 9.]]\n"
     ]
    },
    {
     "data": {
      "text/plain": [
       "[<matplotlib.lines.Line2D at 0x7f2c742b1370>]"
      ]
     },
     "execution_count": 1,
     "metadata": {},
     "output_type": "execute_result"
    },
    {
     "data": {
      "image/png": "[encoded data removed]",
      "text/plain": [
       "<Figure size 432x288 with 1 Axes>"
      ]
     },
     "metadata": {
      "needs_background": "light"
     },
     "output_type": "display_data"
    },
    {
     "data": {
      "image/png": "[encoded data removed]",
      "text/plain": [
       "<Figure size 432x288 with 1 Axes>"
      ]
     },
     "metadata": {
      "needs_background": "light"
     },
     "output_type": "display_data"
    },
    {
     "data": {
      "image/png": "[encoded data removed]",
      "text/plain": [
       "<Figure size 432x288 with 1 Axes>"
      ]
     },
     "metadata": {
      "needs_background": "light"
     },
     "output_type": "display_data"
    }
   ],
   "source": [
    "import nico_test\n",
    "import numpy as np\n",
    "import matplotlib.pyplot as plt\n",
    "from numpy import random\n",
    "from nico_test import simulate\n",
    "from nico_test import energy\n",
    "\n",
    "box_dim = 2 #dimensions\n",
    "size = 10 #grid size\n",
    "N=2\n",
    "init_pos = np.matrix([[1, 1],[9, 9]])#random.randint(size,size=(N,box_dim)) #assign random initial particle positions  \n",
    "init_vel = np.matrix([[0, 0],[0, 0]])#(random.rand(N,box_dim)-0.5) #assign random initial particle velocities\n",
    "num_tsteps = 100 #number of time steps\n",
    "timestep = 0.01 #time step\n",
    "x, v, dx, dy = simulate(init_pos, init_vel, num_tsteps, timestep, box_dim, size)\n",
    "U, V = energy(x,v)\n",
    "print(v)\n",
    "print(init_pos)\n",
    "print(x)\n",
    "plt.figure(1)\n",
    "plt.plot(np.arange(0,num_tsteps),dx,'ro')\n",
    "plt.figure(2)\n",
    "plt.plot(np.arange(0,num_tsteps),dy,'ro')\n",
    "\n",
    "plt.figure(3)\n",
    "plt.plot(x[:,0],x[:,1],'ro')\n",
    "\n"
   ]
  },
  {
   "cell_type": "code",
   "execution_count": null,
   "id": "compatible-bradley",
   "metadata": {},
   "outputs": [],
   "source": [
    "\n"
   ]
  },
  {
   "cell_type": "code",
   "execution_count": null,
   "id": "operational-mortality",
   "metadata": {},
   "outputs": [],
   "source": [
    "\n"
   ]
  },
  {
   "cell_type": "code",
   "execution_count": 5,
   "id": "radical-office",
   "metadata": {},
   "outputs": [
    {
     "name": "stdout",
     "output_type": "stream",
     "text": [
      "[0 1 2 3 4 5 6 7 8]\n",
      "[ 0.   0.1  0.2  0.3  0.4 50.  60.  70.  80. ]\n"
     ]
    }
   ],
   "source": []
  },
  {
   "cell_type": "code",
   "execution_count": 13,
   "id": "familiar-century",
   "metadata": {},
   "outputs": [
    {
     "name": "stdout",
     "output_type": "stream",
     "text": [
      "3.405e-10\n"
     ]
    }
   ],
   "source": []
  },
  {
   "cell_type": "code",
   "execution_count": null,
   "id": "registered-surprise",
   "metadata": {},
   "outputs": [],
   "source": []
  },
  {
   "cell_type": "code",
   "execution_count": null,
   "id": "handled-rescue",
   "metadata": {},
   "outputs": [],
   "source": []
  }
 ],
 "metadata": {
  "kernelspec": {
   "display_name": "Python 3",
   "language": "python",
   "name": "python3"
  },
  "language_info": {
   "codemirror_mode": {
    "name": "ipython",
    "version": 3
   },
   "file_extension": ".py",
   "mimetype": "text/x-python",
   "name": "python",
   "nbconvert_exporter": "python",
   "pygments_lexer": "ipython3",
   "version": "3.8.6"
  }
 },
 "nbformat": 4,
 "nbformat_minor": 5
}
