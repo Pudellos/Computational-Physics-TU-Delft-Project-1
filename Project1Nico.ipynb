{
 "cells": [
  {
   "cell_type": "code",
   "execution_count": 5,
   "id": "married-mercury",
   "metadata": {},
   "outputs": [
    {
     "name": "stdout",
     "output_type": "stream",
     "text": [
      "[[-4.28600513 -2.14300256]]\n",
      "[[ 0.18319895  0.09159948]\n",
      " [-0.18319895 -0.09159948]]\n",
      "[[53.14300256 11.57150128]\n",
      " [48.85699744  9.42849872]]\n"
     ]
    },
    {
     "data": {
      "text/plain": [
       "[<matplotlib.lines.Line2D at 0x7faa359bf250>]"
      ]
     },
     "execution_count": 5,
     "metadata": {},
     "output_type": "execute_result"
    },
    {
     "data": {
      "image/png": "[encoded data removed]",
      "text/plain": [
       "<Figure size 432x288 with 1 Axes>"
      ]
     },
     "metadata": {
      "needs_background": "light"
     },
     "output_type": "display_data"
    },
    {
     "data": {
      "image/png": "[encoded data removed]",
      "text/plain": [
       "<Figure size 432x288 with 1 Axes>"
      ]
     },
     "metadata": {
      "needs_background": "light"
     },
     "output_type": "display_data"
    },
    {
     "data": {
      "image/png": "[encoded data removed]",
      "text/plain": [
       "<Figure size 432x288 with 1 Axes>"
      ]
     },
     "metadata": {
      "needs_background": "light"
     },
     "output_type": "display_data"
    }
   ],
   "source": [
    "import nico_test\n",
    "import numpy as np\n",
    "import matplotlib.pyplot as plt\n",
    "from numpy import random\n",
    "from nico_test import simulate\n",
    "from nico_test import energy\n",
    "from nico_test import force\n",
    "\n",
    "box_dim = 2 #dimensions\n",
    "size = 100 #grid size\n",
    "N=2\n",
    "init_pos = np.matrix([[52, 11],[50, 10]])#random.randint(size,size=(N,box_dim)) #assign random initial particle positions  \n",
    "init_vel = np.matrix([[0, 0],[0, 0]])#(random.rand(N,box_dim)-0.5) #assign random initial particle velocities\n",
    "num_tsteps = 10000 #number of time steps\n",
    "timestep = 0.001 #time step\n",
    "x, v, dx, dy, deltax = simulate(init_pos, init_vel, num_tsteps, timestep, box_dim, size)\n",
    "#F,deltax=force(1,init_pos,size)\n",
    "U, V = energy(x,v)\n",
    "print(deltax)\n",
    "print(v)\n",
    "print(x)\n",
    "\n",
    "plt.figure(1)\n",
    "plt.plot(np.arange(0,num_tsteps),dx,'ro')\n",
    "plt.figure(2)\n",
    "plt.plot(np.arange(0,num_tsteps),dy,'ro')\n",
    "\n",
    "plt.figure(3)\n",
    "plt.plot(x[:,0],x[:,1],'ro')\n"
   ]
  },
  {
   "cell_type": "code",
   "execution_count": 3,
   "id": "occupied-civilization",
   "metadata": {},
   "outputs": [
    {
     "data": {
      "text/plain": [
       "2.156856317931453e-12"
      ]
     },
     "execution_count": 3,
     "metadata": {},
     "output_type": "execute_result"
    }
   ],
   "source": [
    "\n",
    "S = 3.405*(10**-10) #sigma\n",
    "m = 6.6335209*(10**-26) #mass    \n",
    "e = 119.8*1.38*(10**-23) #epsilon\n",
    "S*np.power(m,1/2)/np.power(e,1/2)\n"
   ]
  },
  {
   "cell_type": "code",
   "execution_count": null,
   "id": "returning-stylus",
   "metadata": {},
   "outputs": [],
   "source": []
  },
  {
   "cell_type": "code",
   "execution_count": null,
   "id": "catholic-twelve",
   "metadata": {},
   "outputs": [],
   "source": []
  },
  {
   "cell_type": "code",
   "execution_count": null,
   "id": "chemical-egyptian",
   "metadata": {},
   "outputs": [],
   "source": []
  },
  {
   "cell_type": "code",
   "execution_count": null,
   "id": "latest-imagination",
   "metadata": {},
   "outputs": [],
   "source": []
  }
 ],
 "metadata": {
  "kernelspec": {
   "display_name": "Python 3",
   "language": "python",
   "name": "python3"
  },
  "language_info": {
   "codemirror_mode": {
    "name": "ipython",
    "version": 3
   },
   "file_extension": ".py",
   "mimetype": "text/x-python",
   "name": "python",
   "nbconvert_exporter": "python",
   "pygments_lexer": "ipython3",
   "version": "3.8.6"
  }
 },
 "nbformat": 4,
 "nbformat_minor": 5
}
