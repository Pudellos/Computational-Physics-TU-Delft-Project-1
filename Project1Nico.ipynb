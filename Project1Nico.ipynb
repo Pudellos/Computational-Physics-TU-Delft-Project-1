{
 "cells": [
  {
   "cell_type": "code",
   "execution_count": 9,
   "id": "bigger-player",
   "metadata": {},
   "outputs": [
    {
     "name": "stdout",
     "output_type": "stream",
     "text": [
      "-5.970177518094609e-09\n",
      "-5.772294850425559e-09\n"
     ]
    }
   ],
   "source": [
    "import nico_test\n",
    "import numpy as np\n",
    "import matplotlib.pyplot as plt\n",
    "from numpy import random\n",
    "from nico_test import simulate\n",
    "from nico_test import energy\n",
    "\n",
    "box_dim = 3 #dimensions\n",
    "size = 500 #grid size\n",
    "N=50\n",
    "init_pos = random.randint(size,size=(N,box_dim)) #assign random initial particle positions\n",
    "init_vel = (random.rand(N,box_dim)-0.5) #assign random initial particle velocities\n",
    "num_tsteps = 100 #number of time steps\n",
    "timestep = 0.01 #time step\n",
    "x, v = simulate(init_pos, init_vel, num_tsteps, timestep, box_dim, size)\n",
    "U, V = energy(x,v)\n",
    "print(U)\n",
    "\n",
    "num_tsteps = 200 #number of time steps\n",
    "x, v = simulate(init_pos, init_vel, num_tsteps, timestep, box_dim, size)\n",
    "U, V = energy(x,v)\n",
    "print(U)"
   ]
  },
  {
   "cell_type": "code",
   "execution_count": 17,
   "id": "hollow-democrat",
   "metadata": {},
   "outputs": [
    {
     "ename": "NameError",
     "evalue": "name 'x' is not defined",
     "output_type": "error",
     "traceback": [
      "\u001b[0;31m---------------------------------------------------------------------------\u001b[0m",
      "\u001b[0;31mNameError\u001b[0m                                 Traceback (most recent call last)",
      "\u001b[0;32m<ipython-input-17-c84f33810c2f>\u001b[0m in \u001b[0;36m<module>\u001b[0;34m\u001b[0m\n\u001b[0;32m----> 1\u001b[0;31m \u001b[0mxr\u001b[0m \u001b[0;34m=\u001b[0m \u001b[0mnp\u001b[0m\u001b[0;34m.\u001b[0m\u001b[0mconcatenate\u001b[0m\u001b[0;34m(\u001b[0m\u001b[0;34m(\u001b[0m\u001b[0mx\u001b[0m\u001b[0;34m[\u001b[0m\u001b[0;36m0\u001b[0m\u001b[0;34m:\u001b[0m\u001b[0mi\u001b[0m\u001b[0;34m,\u001b[0m\u001b[0;34m:\u001b[0m\u001b[0;34m]\u001b[0m\u001b[0;34m,\u001b[0m\u001b[0mx\u001b[0m\u001b[0;34m[\u001b[0m\u001b[0mi\u001b[0m\u001b[0;34m+\u001b[0m\u001b[0;36m1\u001b[0m\u001b[0;34m:\u001b[0m\u001b[0mlen\u001b[0m\u001b[0;34m(\u001b[0m\u001b[0mx\u001b[0m\u001b[0;34m)\u001b[0m\u001b[0;34m,\u001b[0m\u001b[0;34m:\u001b[0m\u001b[0;34m]\u001b[0m\u001b[0;34m)\u001b[0m\u001b[0;34m)\u001b[0m \u001b[0;31m#remove particle i from matrix x to aviod self-interaction\u001b[0m\u001b[0;34m\u001b[0m\u001b[0;34m\u001b[0m\u001b[0m\n\u001b[0m\u001b[1;32m      2\u001b[0m \u001b[0;34m\u001b[0m\u001b[0m\n\u001b[1;32m      3\u001b[0m \u001b[0mdeltax\u001b[0m\u001b[0;34m=\u001b[0m\u001b[0mxr\u001b[0m\u001b[0;34m-\u001b[0m\u001b[0mx\u001b[0m\u001b[0;34m[\u001b[0m\u001b[0mi\u001b[0m\u001b[0;34m,\u001b[0m\u001b[0;34m:\u001b[0m\u001b[0;34m]\u001b[0m\u001b[0;34m\u001b[0m\u001b[0;34m\u001b[0m\u001b[0m\n\u001b[1;32m      4\u001b[0m \u001b[0mdeltax\u001b[0m\u001b[0;34m=\u001b[0m\u001b[0mnp\u001b[0m\u001b[0;34m.\u001b[0m\u001b[0mwhere\u001b[0m\u001b[0;34m(\u001b[0m\u001b[0mdeltax\u001b[0m \u001b[0;34m<\u001b[0m \u001b[0;34m(\u001b[0m\u001b[0;34m-\u001b[0m\u001b[0msize\u001b[0m\u001b[0;34m/\u001b[0m\u001b[0;36m2\u001b[0m\u001b[0;34m)\u001b[0m\u001b[0;34m,\u001b[0m\u001b[0mdeltax\u001b[0m\u001b[0;34m,\u001b[0m \u001b[0mdeltax\u001b[0m\u001b[0;34m-\u001b[0m\u001b[0msize\u001b[0m\u001b[0;34m)\u001b[0m\u001b[0;34m\u001b[0m\u001b[0;34m\u001b[0m\u001b[0m\n\u001b[1;32m      5\u001b[0m \u001b[0mdeltax\u001b[0m\u001b[0;34m=\u001b[0m\u001b[0mnp\u001b[0m\u001b[0;34m.\u001b[0m\u001b[0mwhere\u001b[0m\u001b[0;34m(\u001b[0m\u001b[0mdeltax\u001b[0m \u001b[0;34m>\u001b[0m \u001b[0;34m(\u001b[0m\u001b[0msize\u001b[0m\u001b[0;34m/\u001b[0m\u001b[0;36m2\u001b[0m\u001b[0;34m)\u001b[0m\u001b[0;34m,\u001b[0m\u001b[0mdeltax\u001b[0m\u001b[0;34m,\u001b[0m \u001b[0mdeltax\u001b[0m\u001b[0;34m+\u001b[0m\u001b[0msize\u001b[0m\u001b[0;34m)\u001b[0m\u001b[0;34m\u001b[0m\u001b[0;34m\u001b[0m\u001b[0m\n",
      "\u001b[0;31mNameError\u001b[0m: name 'x' is not defined"
     ]
    }
   ],
   "source": [
    "    xr = np.concatenate((x[0:i,:],x[i+1:len(x),:])) #remove particle i from matrix x to aviod self-interaction\n",
    "    \n",
    "    deltax=xr-x[i,:]\n",
    "    deltax=np.where(deltax < (-size/2),deltax, deltax-size)\n",
    "    deltax=np.where(deltax > (size/2),deltax, deltax+size)\n"
   ]
  },
  {
   "cell_type": "code",
   "execution_count": 45,
   "id": "vital-camel",
   "metadata": {},
   "outputs": [
    {
     "ename": "SyntaxError",
     "evalue": "cannot assign to function call (<ipython-input-45-1365887a9bca>, line 3)",
     "output_type": "error",
     "traceback": [
      "\u001b[0;36m  File \u001b[0;32m\"<ipython-input-45-1365887a9bca>\"\u001b[0;36m, line \u001b[0;32m3\u001b[0m\n\u001b[0;31m    U(L[:])=1\u001b[0m\n\u001b[0m    ^\u001b[0m\n\u001b[0;31mSyntaxError\u001b[0m\u001b[0;31m:\u001b[0m cannot assign to function call\n"
     ]
    }
   ],
   "source": [
    "U=np.arange(10,20)\n",
    "L=np.argwhere(U>15)\n",
    "U(L[:])=1\n",
    "print(L)\n",
    "print(U)\n"
   ]
  },
  {
   "cell_type": "code",
   "execution_count": 5,
   "id": "wanted-listing",
   "metadata": {},
   "outputs": [
    {
     "name": "stdout",
     "output_type": "stream",
     "text": [
      "[0 1 2 3 4 5 6 7 8]\n",
      "[ 0.   0.1  0.2  0.3  0.4 50.  60.  70.  80. ]\n"
     ]
    }
   ],
   "source": [
    "a=np.arange(0,9)\n",
    "print(a)\n",
    "a=np.where(a < 5,a, 10*a)\n",
    "a=np.where(a > 5,a, a/10)\n",
    "\n",
    "print(a)"
   ]
  },
  {
   "cell_type": "code",
   "execution_count": 13,
   "id": "sufficient-modification",
   "metadata": {},
   "outputs": [
    {
     "name": "stdout",
     "output_type": "stream",
     "text": [
      "3.405e-10\n"
     ]
    }
   ],
   "source": [
    "print(s)"
   ]
  },
  {
   "cell_type": "code",
   "execution_count": null,
   "id": "dated-daisy",
   "metadata": {},
   "outputs": [],
   "source": [
    "import main\n",
    "import numpy as np\n",
    "from main import Gas\n",
    "from main import Molecule\n",
    "from main import init\n",
    "from main import time_evolution\n",
    "\n",
    "g=init(2,3,(500,500))\n",
    "print('positions before')\n",
    "print(g.positions())\n",
    "print()\n",
    "print('evolution happens..')\n",
    "print()\n",
    "g=time_evolution(g,4,0.005)\n",
    "print('positions after')\n",
    "print(g.positions())\n",
    "\n",
    "print()\n",
    "print('calling all functions')\n",
    "print('velocities of particles')\n",
    "print(g.velocities())\n",
    "print('molecules arranged into couples based on their position')\n",
    "print(g.couples_of_molecules())\n",
    "print('atomic distances between couples of molecules')\n",
    "print(g.atomic_distances())\n",
    "print('Lennard Jones potentials between couples of molecules')\n",
    "print(g.lj_potentials())\n",
    "print('forces experianced by each molecule due to lennard johnes potentials')\n",
    "print(g.lj_forces())\n",
    "print('calculation of potential energy of the simulated gas')\n",
    "print(g.Ep())\n",
    "print('calculation of kinetic energy of the simulated gas')\n",
    "print(g.Ek())\n",
    "print('calculation of total energy of the simulated gas')\n",
    "print(g.E())"
   ]
  },
  {
   "cell_type": "code",
   "execution_count": null,
   "id": "wired-insured",
   "metadata": {},
   "outputs": [],
   "source": []
  }
 ],
 "metadata": {
  "kernelspec": {
   "display_name": "Python 3",
   "language": "python",
   "name": "python3"
  },
  "language_info": {
   "codemirror_mode": {
    "name": "ipython",
    "version": 3
   },
   "file_extension": ".py",
   "mimetype": "text/x-python",
   "name": "python",
   "nbconvert_exporter": "python",
   "pygments_lexer": "ipython3",
   "version": "3.8.6"
  }
 },
 "nbformat": 4,
 "nbformat_minor": 5
}
