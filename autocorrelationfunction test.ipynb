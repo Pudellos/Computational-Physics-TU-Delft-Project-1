{
 "cells": [
  {
   "cell_type": "code",
   "execution_count": 8,
   "id": "level-threat",
   "metadata": {},
   "outputs": [
    {
     "name": "stdout",
     "output_type": "stream",
     "text": [
      "To fill the FCC lattice 0 particles were added for a total of 10 particles.\n",
      "The correlation time is  [7.14663016]\n"
     ]
    },
    {
     "name": "stderr",
     "output_type": "stream",
     "text": [
      "<ipython-input-8-ba0af236a9a6>:51: RuntimeWarning: invalid value encountered in double_scalars\n",
      "  Xi[i] = (t1-t2)/(t3*t4)\n"
     ]
    },
    {
     "data": {
      "image/png": "[encoded data removed]",
      "text/plain": [
       "<Figure size 600x400 with 1 Axes>"
      ]
     },
     "metadata": {
      "needs_background": "light"
     },
     "output_type": "display_data"
    }
   ],
   "source": [
    "import skeleton_ours\n",
    "from skeleton_ours import simulate, fcc_lattice, init_velocity, mean_squared_displacement\n",
    "#from skeleton_ours import \n",
    "#from skeleton_ours import \n",
    "import itertools\n",
    "import numpy as np\n",
    "import matplotlib.pyplot as plt \n",
    "import matplotlib.animation\n",
    "import time\n",
    "from scipy.optimize import curve_fit\n",
    "\n",
    "dim = 3\n",
    "num_tsteps = 4\n",
    "num_atoms = 10\n",
    "box_dim = 100\n",
    "timestep = 0.0004\n",
    "temp = 10\n",
    "fill=0\n",
    "aftert=0\n",
    "\n",
    "x, num_atoms = fcc_lattice(num_atoms, box_dim, dim, fill)\n",
    "init_vel, sigma = init_velocity(num_atoms, temp, dim)\n",
    "init_pos = x\n",
    "x, v, T, U, r, aftert = simulate(init_pos, init_vel, num_tsteps, timestep, box_dim, num_atoms, dim, temp)\n",
    "\n",
    "def func(x, b):\n",
    "    return np.exp(- b * x)\n",
    "\n",
    "\n",
    "def autocorrelation(data):\n",
    "    \n",
    "    '''\n",
    "    Calculates the autocorrelation function for a given dataset\n",
    "\n",
    "    Parameters\n",
    "    ----------\n",
    "    data : np.ndarray\n",
    "        The data to be correlated\n",
    "        \n",
    "    Returns\n",
    "    -------\n",
    "    Xi : array of the autocorrelationfunction(t)\n",
    "    '''\n",
    "    Xi=np.zeros(len(data))\n",
    "    for i in range(len(data)):\n",
    "        NT = len(data)-i\n",
    "        t1 = NT*sum(data[0:NT]*data[i:len(data)]) #term 1\n",
    "        t2 = sum(data[0:NT])*sum(data[i:len(data)]) #term 2\n",
    "        t3 = np.power(NT*sum(data[0:NT]**2)-sum(data[0:NT])**2, 1/2) #term 3\n",
    "        t4 = np.power(NT*sum(data[i:len(data)]**2)-sum(data[i:len(data)])**2, 1/2) #term 4\n",
    "        Xi[i] = (t1-t2)/(t3*t4)\n",
    "    return Xi\n",
    "\n",
    "def normal_autocorr(mu, sigma, tau, N):\n",
    "    \"\"\"Generates an autocorrelated sequence of Gaussian random numbers.\n",
    "    \n",
    "    Each of the random numbers in the sequence of length `N` is distributed\n",
    "    according to a Gaussian with mean `mu` and standard deviation `sigma` (just\n",
    "    as in `numpy.random.normal`, with `loc=mu` and `scale=sigma`). Subsequent\n",
    "    random numbers are correlated such that the autocorrelation function\n",
    "    is on average `exp(-n/tau)` where `n` is the distance between random\n",
    "    numbers in the sequence.\n",
    "    \n",
    "    This function implements the algorithm described in\n",
    "    https://www.cmu.edu/biolphys/deserno/pdf/corr_gaussian_random.pdf\n",
    "    \n",
    "    Parameters\n",
    "    ----------\n",
    "    \n",
    "    mu: float\n",
    "        mean of each Gaussian random number\n",
    "    sigma: float\n",
    "        standard deviation of each Gaussian random number\n",
    "    tau: float\n",
    "        autocorrelation time\n",
    "    N: int\n",
    "        number of desired random numbers\n",
    "    \n",
    "    Returns:\n",
    "    --------\n",
    "    sequence: numpy array\n",
    "        array of autocorrelated random numbers\n",
    "    \"\"\"\n",
    "    f = np.exp(-1./tau)\n",
    "    \n",
    "    sequence = np.zeros(shape=(N,))\n",
    "    \n",
    "    sequence[0] = np.random.normal(0, 1)\n",
    "    for i in range(1, N):\n",
    "        sequence[i] = f * sequence[i-1] + np.sqrt(1 - f**2) * np.random.normal(0, 1)\n",
    "    \n",
    "    return mu + sigma * sequence\n",
    "\n",
    "testcor=normal_autocorr(0, 0.1, 10, 100)\n",
    "Xi = autocorrelation(testcor)\n",
    "plt.plot(np.arange(0,len(Xi)),Xi)\n",
    "\n",
    "#MSD, AMSD, D, TSD1 = mean_squared_displacement(x, box_dim)\n",
    "#print(D)\n",
    "\n",
    "#t = np.arange(0,num_tsteps-1)\n",
    "#plt.plot(t,AMSD)\n",
    "\n",
    "\n",
    "#MSD, AMSD, D, TSD1 = mean_squared_displacement(x[aftert:len(x)], box_dim)\n",
    "#t = np.arange(0,num_tsteps-1-aftert)\n",
    "#plt.figure(2)\n",
    "#plt.plot(t,MSD[:,0])\n",
    "\n",
    "#plt.figure(3)\n",
    "t=np.arange(0,20)\n",
    "\n",
    "popt, pcov = curve_fit(func, np.arange(0,20), Xi[0:20], bounds=(0, [10.]))\n",
    "plt.plot(t, np.exp(-popt[0] * t))\n",
    "print(\"The correlation time is \", 1/popt)\n"
   ]
  },
  {
   "cell_type": "code",
   "execution_count": 31,
   "id": "cross-climb",
   "metadata": {},
   "outputs": [
    {
     "name": "stdout",
     "output_type": "stream",
     "text": [
      "[2000 2001 2002 ... 3897 3898 3899]\n"
     ]
    }
   ],
   "source": [
    "print(t)"
   ]
  },
  {
   "cell_type": "code",
   "execution_count": 17,
   "id": "responsible-harris",
   "metadata": {},
   "outputs": [
    {
     "name": "stdout",
     "output_type": "stream",
     "text": [
      "[ 0.13283693  0.14403034  0.1222959   0.10620765  0.05172069 -0.00927931\n",
      " -0.00845327  0.01167844 -0.02448966 -0.04442003 -0.11577213 -0.212278\n",
      " -0.35457055 -0.42901764 -0.38141192 -0.32249752 -0.3296833  -0.26976328\n",
      " -0.16739996 -0.02411358  0.1982766   0.35141325  0.41859364  0.48988555\n",
      "  0.55766933  0.58028557  0.61825364  0.58058485  0.39744348  0.24710093\n",
      "  0.10504814 -0.12115341 -0.32877133 -0.44731052 -0.54357162 -0.50712838\n",
      " -0.40132299 -0.26754395 -0.23137675 -0.2163551  -0.10568368  0.0045078\n",
      "  0.46247272  0.76345468  0.23560388 -0.77002711 -0.84571027 -0.98187569\n",
      " -1.                 nan]\n"
     ]
    }
   ],
   "source": [
    "print(Xi[950:1000])"
   ]
  },
  {
   "cell_type": "code",
   "execution_count": 33,
   "id": "smart-interface",
   "metadata": {},
   "outputs": [
    {
     "data": {
      "text/plain": [
       "1900"
      ]
     },
     "execution_count": 33,
     "metadata": {},
     "output_type": "execute_result"
    }
   ],
   "source": [
    "len(t)"
   ]
  },
  {
   "cell_type": "code",
   "execution_count": null,
   "id": "pharmaceutical-sierra",
   "metadata": {},
   "outputs": [],
   "source": []
  }
 ],
 "metadata": {
  "kernelspec": {
   "display_name": "Python 3",
   "language": "python",
   "name": "python3"
  },
  "language_info": {
   "codemirror_mode": {
    "name": "ipython",
    "version": 3
   },
   "file_extension": ".py",
   "mimetype": "text/x-python",
   "name": "python",
   "nbconvert_exporter": "python",
   "pygments_lexer": "ipython3",
   "version": "3.8.6"
  }
 },
 "nbformat": 4,
 "nbformat_minor": 5
}
